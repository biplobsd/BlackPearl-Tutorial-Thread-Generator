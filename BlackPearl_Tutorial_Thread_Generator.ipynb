{
  "cells": [
    {
      "cell_type": "markdown",
      "metadata": {
        "id": "view-in-github",
        "colab_type": "text"
      },
      "source": [
        "<a href=\"https://colab.research.google.com/github/biplobsd/BlackPearl-Tutorial-Thread-Generator/blob/master/BlackPearl_Tutorial_Thread_Generator.ipynb\" target=\"_parent\"><img src=\"https://colab.research.google.com/assets/colab-badge.svg\" alt=\"Open In Colab\"/></a>"
      ]
    },
    {
      "cell_type": "code",
      "execution_count": null,
      "metadata": {
        "cellView": "form",
        "id": "L1stNJGkzgLH"
      },
      "outputs": [],
      "source": [
        "#@markdown <br><center><img src='https://i.imgur.com/Vz0uo7C.png' height=\"50\" alt=\"BlackPearl-logo\"/></center>\n",
        "#@markdown __<center>THREAD GENERATOR FOR TUTORIALS SECTION</center>__\n",
        "udemyCourseURL = '' #@param {type:\"string\"}\n",
        "downloadURL = '' #@param {type:\"string\"}\n",
        "\n",
        "import site, os, sys\n",
        "from google.colab import output\n",
        "from IPython.display import clear_output\n",
        "import os\n",
        "\n",
        "def findopj(inputDriver, pattern: str, delay: int = 30, listmode=False):\n",
        "    try:\n",
        "        if not listmode:\n",
        "            m = EC.visibility_of_element_located((By.XPATH, pattern))\n",
        "        else:\n",
        "            m = EC.visibility_of_all_elements_located((By.XPATH, pattern))\n",
        "\n",
        "        return WebDriverWait(inputDriver, delay).until(\n",
        "            m\n",
        "        )\n",
        "    except UnexpectedAlertPresentException:\n",
        "        return False\n",
        "    except TimeoutException:\n",
        "        return False\n",
        "\n",
        "# Install dependencies\n",
        "if not os.path.exists(\"/usr/bin/chromedriver\"):\n",
        "  !apt-get -y update\n",
        "  !apt install chromium-chromedriver \n",
        "  !pip install colorama selenium\n",
        "  clear_output()\n",
        "\n",
        "from selenium import webdriver\n",
        "from selenium.webdriver.common.by import By\n",
        "from selenium.webdriver.support.ui import WebDriverWait\n",
        "from selenium.webdriver.support import expected_conditions as EC\n",
        "from selenium.common.exceptions import TimeoutException\n",
        "from selenium.common.exceptions import UnexpectedAlertPresentException\n",
        " \n",
        "chromedriver = \"chromedriver\"\n",
        "chrome_options = webdriver.ChromeOptions()\n",
        "chrome_options.add_argument('--headless')\n",
        "chrome_options.add_argument('--no-sandbox')\n",
        "chrome_options.add_argument('--disable-dev-shm-usage')\n",
        "browser = webdriver.Chrome(chromedriver, options=chrome_options)\n",
        "browser.get(udemyCourseURL)\n",
        "\n",
        "if findopj(browser, r'//span[text()=\"Cloudflare Ray ID: \"]'):\n",
        "  print(\"Your friend Cloudflare taken over your request.\")\n",
        "  sys.exit()\n",
        "elif not findopj(browser, r'//span[@class=\"curriculum--content-length--1XzLS\"]'):\n",
        "  print(\"Maybe input url is not valid or page is not expected as apply script. Check all search pattern in this script.\")\n",
        "  sys.exit()\n",
        "\n",
        "if not os.path.exists(site.USER_SITE):\n",
        "  !echo -n \"Installing requirements...\" && mkdir -p $site.USER_SITE &> /dev/null\n",
        "  !wget https://raw.githubusercontent.com/cheems/BlackPearl-Tutorial-Thread-Generator/master/htmlCodeForJupyter.py -O '$site.USER_SITE/htmlCodeForJupyter.py' &> /dev/null\n",
        "  !wget https://raw.githubusercontent.com/cheems/BlackPearl-Tutorial-Thread-Generator/master/threadGenFunc.py -O '$site.USER_SITE/threadGenFunc.py' &> /dev/null\n",
        "  !wget https://raw.githubusercontent.com/cheems/BlackPearl-Tutorial-Thread-Generator/master/requirements.txt &> /dev/null\n",
        "  !pip3 install -r requirements.txt  &> /dev/null\n",
        "  !rm requirements.txt &> /dev/null\n",
        "  output.clear()\n",
        "  sys.path.append(site.USER_SITE)\n",
        "\n",
        "import threadGenFunc\n",
        "\n",
        "\n",
        "####\n",
        "threadGenFunc.makeGlobal(udemyCourseURL, downloadURL, browser.page_source)\n",
        "threadGenFunc.jupyterBool(True)\n",
        "threadGenFunc.startWait()\n",
        "\n",
        "coursePage = threadGenFunc.parsePage(threadGenFunc.inpCourseURL)\n",
        "whatYouWillLearn = threadGenFunc.getWhatYouWillLearn(coursePage)\n",
        "courseHeader = threadGenFunc.getHeader(coursePage)\n",
        "courseDuration = threadGenFunc.getDuration(coursePage)\n",
        "courseRequirements = threadGenFunc.getRequirements(coursePage)\n",
        "courseDescription = threadGenFunc.getDescription(coursePage)\n",
        "whoThisCourseIsFor = threadGenFunc.getWhoThisCourseIsFor(coursePage)\n",
        "courseImage = threadGenFunc.getCourseImage(coursePage)\n",
        "coursePage = threadGenFunc.getCoursePage(udemyCourseURL)\n",
        "downloadLink = threadGenFunc.getDownloadURL(downloadURL)\n",
        "\n",
        "threadGenFunc.endWait()\n",
        "\n",
        "bbCode = courseHeader + courseImage + whatYouWillLearn + courseDuration + courseRequirements + courseDescription + whoThisCourseIsFor + coursePage + downloadLink\n",
        "\n",
        "threadGenFunc.displayCode(bbCode)"
      ]
    }
  ],
  "metadata": {
    "colab": {
      "collapsed_sections": [],
      "name": "BlackPearl-Tutorial-Thread-Generator",
      "provenance": [],
      "include_colab_link": true
    },
    "kernelspec": {
      "display_name": "Python 3.10.0 64-bit",
      "language": "python",
      "name": "python3"
    },
    "language_info": {
      "name": "python",
      "version": "3.10.0"
    },
    "vscode": {
      "interpreter": {
        "hash": "060084638b14dc5c328e0e9bab030a6203651878e5e423c55d984ac6d18de3c8"
      }
    }
  },
  "nbformat": 4,
  "nbformat_minor": 0
}