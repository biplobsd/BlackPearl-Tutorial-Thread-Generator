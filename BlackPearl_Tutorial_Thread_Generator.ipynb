{
  "nbformat": 4,
  "nbformat_minor": 0,
  "metadata": {
    "colab": {
      "name": "BlackPearl-Tutorial-Thread-Generator",
      "provenance": [],
      "collapsed_sections": []
    },
    "kernelspec": {
      "name": "python3",
      "display_name": "Python 3"
    }
  },
  "cells": [
    {
      "cell_type": "markdown",
      "metadata": {
        "id": "view-in-github",
        "colab_type": "text"
      },
      "source": [
        "<a href=\"https://colab.research.google.com/github/cheems/BlackPearl-Tutorial-Thread-Generator/blob/master/BlackPearl_Tutorial_Thread_Generator.ipynb\" target=\"_parent\"><img src=\"https://colab.research.google.com/assets/colab-badge.svg\" alt=\"Open In Colab\"/></a>"
      ]
    },
    {
      "cell_type": "code",
      "metadata": {
        "id": "L1stNJGkzgLH",
        "cellView": "form"
      },
      "source": [
        "#@markdown <br><center><img src='https://i.imgur.com/Vz0uo7C.png' height=\"50\" alt=\"BlackPearl-logo\"/></center>\n",
        "#@markdown __<center>THREAD GENERATOR FOR TUTORIALS SECTION</center>__\n",
        "udemyCourseURL = '' #@param {type:\"string\"}\n",
        "downloadURL = '' #@param {type:\"string\"}\n",
        "\n",
        "import site, os, sys\n",
        "from google.colab import output\n",
        "if not os.path.exists(site.USER_SITE):\n",
        "  !echo -n \"Installing requirements...\" && mkdir -p $site.USER_SITE &> /dev/null\n",
        "  !wget https://raw.githubusercontent.com/cheems/BlackPearl-Tutorial-Thread-Generator/master/htmlCodeForJupyter.py -O '$site.USER_SITE/htmlCodeForJupyter.py' &> /dev/null\n",
        "  !wget https://raw.githubusercontent.com/cheems/BlackPearl-Tutorial-Thread-Generator/master/threadGenFunc.py -O '$site.USER_SITE/threadGenFunc.py' &> /dev/null\n",
        "  !wget https://raw.githubusercontent.com/cheems/BlackPearl-Tutorial-Thread-Generator/master/requirements.txt &> /dev/null\n",
        "  !pip3 install -r requirements.txt  &> /dev/null\n",
        "  !rm requirements.txt &> /dev/null\n",
        "  output.clear()\n",
        "  sys.path.append(site.USER_SITE)\n",
        "\n",
        "import threadGenFunc\n",
        "####\n",
        "threadGenFunc.makeGlobal(udemyCourseURL, downloadURL)\n",
        "threadGenFunc.jupyterBool(True)\n",
        "threadGenFunc.startWait()\n",
        "\n",
        "coursePage = threadGenFunc.parsePage(threadGenFunc.inpCourseURL)\n",
        "whatYouWillLearn = threadGenFunc.getWhatYouWillLearn(coursePage)\n",
        "courseHeader = threadGenFunc.getHeader(coursePage)\n",
        "courseDuration = threadGenFunc.getDuration(coursePage)\n",
        "courseRequirements = threadGenFunc.getRequirements(coursePage)\n",
        "courseDescription = threadGenFunc.getDescription(coursePage)\n",
        "whoThisCourseIsFor = threadGenFunc.getWhoThisCourseIsFor(coursePage)\n",
        "courseImage = threadGenFunc.getCourseImage(coursePage)\n",
        "coursePage = threadGenFunc.getCoursePage(udemyCourseURL)\n",
        "downloadLink = threadGenFunc.getDownloadURL(downloadURL)\n",
        "\n",
        "threadGenFunc.endWait()\n",
        "\n",
        "bbCode = courseHeader + courseImage + whatYouWillLearn + courseDuration + courseRequirements + courseDescription + whoThisCourseIsFor + coursePage + downloadLink\n",
        "\n",
        "threadGenFunc.displayCode(bbCode)"
      ],
      "execution_count": null,
      "outputs": []
    }
  ]
}
